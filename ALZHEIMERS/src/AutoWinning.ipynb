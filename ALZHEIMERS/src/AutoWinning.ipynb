{
 "cells": [
  {
   "cell_type": "code",
   "execution_count": 1,
   "id": "numeric-image",
   "metadata": {},
   "outputs": [
    {
     "name": "stdout",
     "output_type": "stream",
     "text": [
      "{'./DATA/train/VeryMildDemented': 1792, './DATA/train/ModerateDemented': 52, './DATA/train/MildDemented': 717, './DATA/train/NonDemented': 2560}\n",
      "                                              Images  Labels\n",
      "0  [[0, 0, 0, 0, 0, 0, 0, 0, 0, 0, 0, 0, 0, 0, 0,...       3\n",
      "1  [[0, 0, 0, 0, 0, 0, 0, 0, 0, 0, 0, 0, 0, 0, 0,...       4\n",
      "2  [[0, 0, 0, 0, 0, 0, 0, 0, 0, 0, 0, 0, 0, 0, 0,...       3\n",
      "3  [[0, 0, 0, 0, 0, 0, 0, 0, 0, 0, 0, 0, 0, 0, 0,...       1\n",
      "4  [[0, 0, 0, 0, 0, 0, 0, 0, 0, 0, 0, 0, 0, 0, 0,...       4\n",
      "(208, 176)\n"
     ]
    }
   ],
   "source": [
    "import os\n",
    "import pandas as pd\n",
    "import matplotlib.image as mpimg\n",
    "import numpy as np\n",
    "from sklearn.model_selection import train_test_split\n",
    "\n",
    "paths = []\n",
    "label = {}\n",
    "\n",
    "i = 0\n",
    "\n",
    "for root, dirs, files in os.walk(\"./DATA/train/\"):\n",
    "    for file in files:\n",
    "        if file.endswith(\".jpg\"):\n",
    "            if root not in label:\n",
    "                label[root] = i\n",
    "            if root in label:\n",
    "                label[root] += 1\n",
    "            paths.append(root + \"/\" + file)\n",
    "\n",
    "images = [mpimg.imread(x) for x in paths]\n",
    "images = pd.Series(images)\n",
    "\n",
    "print(label)\n",
    "\n",
    "# hardcoded time\n",
    "l1 = np.tile(1, label['./DATA/train/MildDemented'])\n",
    "l2 = np.tile(2, label['./DATA/train/ModerateDemented'])\n",
    "l3 = np.tile(3, label['./DATA/train/NonDemented'])\n",
    "l4 = np.tile(4, label['./DATA/train/VeryMildDemented'])\n",
    "\n",
    "# labels\n",
    "labels = pd.Series(np.concatenate([l1, l2, l3, l4]))\n",
    "\n",
    "# finally\n",
    "data = {\"Images\": images, \"Labels\": labels}\n",
    "df = pd.concat(data, axis=1)\n",
    "df = df.sample(frac=1).reset_index(drop=True)\n",
    "\n",
    "print(df.head())\n",
    "\n",
    "print(df[\"Images\"][0].shape)"
   ]
  },
  {
   "cell_type": "code",
   "execution_count": null,
   "id": "functioning-luther",
   "metadata": {},
   "outputs": [],
   "source": [
    "import autogluon.core as ag\n",
    "from autogluon import ImageDataset\n",
    "\n",
    "train_data, _, test_data = ImageDataset.from_folders(\"./DATA/\", train='train', test='test')\n",
    "train_data.head()"
   ]
  }
 ],
 "metadata": {
  "kernelspec": {
   "display_name": "Python 3",
   "language": "python",
   "name": "python3"
  },
  "language_info": {
   "codemirror_mode": {
    "name": "ipython",
    "version": 3
   },
   "file_extension": ".py",
   "mimetype": "text/x-python",
   "name": "python",
   "nbconvert_exporter": "python",
   "pygments_lexer": "ipython3",
   "version": "3.9.1"
  }
 },
 "nbformat": 4,
 "nbformat_minor": 5
}
