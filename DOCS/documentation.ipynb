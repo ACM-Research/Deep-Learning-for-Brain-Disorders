{
 "cells": [
  {
   "attachments": {},
   "cell_type": "markdown",
   "id": "sophisticated-nashville",
   "metadata": {},
   "source": [
    "## Convolutional Network\n",
    "\n",
    "*explain convolutional network*\n",
    "there's a lot to talk about here...\n"
   ]
  },
  {
   "cell_type": "code",
   "execution_count": 1,
   "id": "mediterranean-cable",
   "metadata": {},
   "outputs": [],
   "source": [
    "import torch\n",
    "import torch.nn as nn\n",
    "import torch.functional as F\n",
    "import torch.optim as optim"
   ]
  },
  {
   "cell_type": "markdown",
   "id": "touched-driving",
   "metadata": {},
   "source": [
    "want to import the dependencies in order to write our model...\n",
    "\n",
    "## Basic Explaination of Convolutional Network\n",
    "\n",
    "From a maths perspective a network can be thought of as a model that wants to minimize some arbitrary loss function\n",
    "in this case we will denote this as $\\ell$ so therefore we want to think about how we want to minimize this function. Most of the time we will use the gradient decent algorithm in order to do this.\n",
    "\n",
    "$$\n",
    "\\nabla{}\\ell(x_1, x_2, ..., x_n) = \\langle{} \\frac{\\partial{}\\ell}{\\partial{}x_1}, \\frac{\\partial{}\\ell}{\\partial{}x_2} \\rangle{}\n",
    "$$\n",
    "\n",
    "so our network wants to minimize this function ... etc.\n",
    "$$\n",
    "min_{\\ell} f(\\nu, \\ell, w, p) = \\Sigma{} \\nabla{} \\ell{} * \\nu % this is made up lol\n",
    "$$"
   ]
  },
  {
   "cell_type": "code",
   "execution_count": 2,
   "id": "greatest-welsh",
   "metadata": {},
   "outputs": [],
   "source": [
    "class CNN(nn.Module):\n",
    "    def __init__(self):\n",
    "        super(CNN, self).__init__()\n",
    "        # conv layers\n",
    "        self.conv1 = nn.Conv2d(1, 32, kernel_size=(3, 3), padding=1, stride=2)\n",
    "        self.conv2 = nn.Conv2d(32, 64, kernel_size=(3, 3), padding=1, stride=2)\n",
    "        self.conv3 = nn.Conv2d(64, 32, kernel_size=(3, 3), padding=1, stride=2)\n",
    "        \n",
    "        # batch norm layers match outputs of matching conv layer\n",
    "        self.bn1 = nn.BatchNorm2d(32)\n",
    "        self.bn2 = nn.BatchNorm2d(64)\n",
    "        \n",
    "        # activation function\n",
    "        self.relu = nn.ReLU()\n",
    "        \n",
    "        # fully connected layer at the end to output our classes\n",
    "        self.fc1 = nn.Linear(32, 10)\n",
    "        \n",
    "    def forward(self, x):\n",
    "        \"\"\"sequentially pass input can be improved upon but we like to see what's going on\"\"\"\n",
    "        \n",
    "        # layer 1\n",
    "        out = self.conv1(x)\n",
    "        out = self.bn1(out)\n",
    "        out = self.relu(out)\n",
    "        \n",
    "        # layer 2\n",
    "        out = self.conv2(out)\n",
    "        out = self.bn2(out)\n",
    "        out = self.relu(out)\n",
    "        \n",
    "        # layer 3\n",
    "        out = self.conv3(out)\n",
    "        out = self.fc1(out)\n",
    "        out = self.relu(out)\n",
    "        \n",
    "        return out"
   ]
  },
  {
   "cell_type": "markdown",
   "id": "molecular-behalf",
   "metadata": {},
   "source": [
    "## Explaination..."
   ]
  }
 ],
 "metadata": {
  "kernelspec": {
   "display_name": "Python 3",
   "language": "python",
   "name": "python3"
  },
  "language_info": {
   "codemirror_mode": {
    "name": "ipython",
    "version": 3
   },
   "file_extension": ".py",
   "mimetype": "text/x-python",
   "name": "python",
   "nbconvert_exporter": "python",
   "pygments_lexer": "ipython3",
   "version": "3.9.1"
  }
 },
 "nbformat": 4,
 "nbformat_minor": 5
}
