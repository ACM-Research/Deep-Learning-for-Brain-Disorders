{
 "cells": [
  {
   "cell_type": "code",
   "execution_count": 1,
   "metadata": {},
   "outputs": [
    {
     "name": "stderr",
     "output_type": "stream",
     "text": [
      "/home/loganj/.local/lib/python3.9/site-packages/nilearn/datasets/__init__.py:93: FutureWarning: Fetchers from the nilearn.datasets module will be updated in version 0.9 to return python strings instead of bytes and Pandas dataframes instead of Numpy arrays.\n",
      "  warn(\"Fetchers from the nilearn.datasets module will be \"\n"
     ]
    }
   ],
   "source": [
    "from nilearn import plotting\n",
    "from nilearn.input_data import NiftiLabelsMasker\n",
    "\n",
    "masker = NiftiLabelsMasker(labels_img=\"n/aal_SPM12/aal/ROI_MNI_V4.nii\")\n",
    "normal = masker.fit_transform(\"normal_data/IXI002-Guys-0828-T1.nii.gz\")"
   ]
  },
  {
   "cell_type": "code",
   "execution_count": 2,
   "metadata": {},
   "outputs": [
    {
     "data": {
      "text/plain": [
       "array([[377.02526536, 393.65235046, 383.17804089, 400.2997002 ,\n",
       "        103.83257544, 154.31628462, 349.72273728, 357.59987569,\n",
       "        134.2387361 , 157.55924968, 335.69555302, 330.75126904,\n",
       "        259.51033079, 275.90855223, 251.58016894, 300.23353014,\n",
       "        368.46359029, 390.22700179, 387.67539038, 382.69593823,\n",
       "        191.40363128, 192.35042354, 288.90011411, 277.43554919,\n",
       "        178.55574356, 134.98232094, 112.29243192, 143.21703011,\n",
       "        275.35774073, 290.60635625, 188.9063674 , 212.99373838,\n",
       "        396.08172776, 397.81589909, 319.3595763 , 336.86065574,\n",
       "        305.93388312, 295.09686334, 322.13383804, 340.54393993,\n",
       "        250.16113161, 297.61227787, 237.67142774, 269.87759439,\n",
       "        243.86322057, 259.85999064, 242.85662833, 250.47004925,\n",
       "        210.42998641, 238.85110906, 211.78428778, 235.9701333 ,\n",
       "        237.12370702, 176.21317413, 272.43314037, 283.56650763,\n",
       "        357.25467949, 368.78128457, 300.89409056, 299.70253651,\n",
       "        329.28690206, 345.9209034 , 295.52454273, 320.94921459,\n",
       "        241.00257242, 264.88218499, 326.72337697, 333.64992855,\n",
       "        381.08567539, 341.46188066, 205.96796561, 251.81591059,\n",
       "        220.33992664, 276.3234242 , 148.09103323,  98.61004223,\n",
       "        383.37211516, 386.41043478, 317.32093822, 374.19777306,\n",
       "        217.10755162, 234.07995981, 284.04644725, 292.52483037,\n",
       "        182.85773481, 226.84465874, 357.37785527, 357.98924016,\n",
       "        224.13686326, 232.100595  , 224.27278708, 196.01062132,\n",
       "         60.33130932,  56.23023285, 324.11621094, 355.53779963,\n",
       "        317.8317505 , 353.6227608 , 238.90745781, 267.00124024,\n",
       "        157.86153501,  58.08955588, 284.58770027, 254.03366946,\n",
       "        375.13461828, 350.7765444 , 309.79475588, 369.66018597,\n",
       "        258.2823219 , 327.14509332, 302.01400162, 175.99963316,\n",
       "        361.29448276, 342.16777042, 372.82384615, 270.9009434 ]])"
      ]
     },
     "execution_count": 2,
     "metadata": {},
     "output_type": "execute_result"
    }
   ],
   "source": [
    "normal"
   ]
  },
  {
   "cell_type": "code",
   "execution_count": 3,
   "metadata": {},
   "outputs": [
    {
     "ename": "ValueError",
     "evalue": "File not found: 'DATA/50054/MP-RAGE/2000-01-01_00_00_00.0/I328862/ABIDE_50054_MRI_MP-RAGE_br_raw_20120830185721042_S164852_I328862.nii'",
     "output_type": "error",
     "traceback": [
      "\u001b[0;31m---------------------------------------------------------------------------\u001b[0m",
      "\u001b[0;31mValueError\u001b[0m                                Traceback (most recent call last)",
      "\u001b[0;32m<ipython-input-3-4884cba3b143>\u001b[0m in \u001b[0;36m<module>\u001b[0;34m\u001b[0m\n\u001b[0;32m----> 1\u001b[0;31m \u001b[0mautistic\u001b[0m \u001b[0;34m=\u001b[0m \u001b[0mmasker\u001b[0m\u001b[0;34m.\u001b[0m\u001b[0mfit_transform\u001b[0m\u001b[0;34m(\u001b[0m\u001b[0;34m\"DATA/50054/MP-RAGE/2000-01-01_00_00_00.0/I328862/ABIDE_50054_MRI_MP-RAGE_br_raw_20120830185721042_S164852_I328862.nii\"\u001b[0m\u001b[0;34m)\u001b[0m\u001b[0;34m\u001b[0m\u001b[0;34m\u001b[0m\u001b[0m\n\u001b[0m",
      "\u001b[0;32m~/.local/lib/python3.9/site-packages/nilearn/input_data/nifti_labels_masker.py\u001b[0m in \u001b[0;36mfit_transform\u001b[0;34m(self, imgs, confounds, sample_mask)\u001b[0m\n\u001b[1;32m    389\u001b[0m \u001b[0;34m\u001b[0m\u001b[0m\n\u001b[1;32m    390\u001b[0m         \"\"\"\n\u001b[0;32m--> 391\u001b[0;31m         return self.fit().transform(imgs, confounds=confounds,\n\u001b[0m\u001b[1;32m    392\u001b[0m                                     sample_mask=sample_mask)\n\u001b[1;32m    393\u001b[0m \u001b[0;34m\u001b[0m\u001b[0m\n",
      "\u001b[0;32m~/.local/lib/python3.9/site-packages/nilearn/input_data/base_masker.py\u001b[0m in \u001b[0;36mtransform\u001b[0;34m(self, imgs, confounds, sample_mask)\u001b[0m\n\u001b[1;32m    198\u001b[0m \u001b[0;34m\u001b[0m\u001b[0m\n\u001b[1;32m    199\u001b[0m         \u001b[0;32mif\u001b[0m \u001b[0mconfounds\u001b[0m \u001b[0;32mis\u001b[0m \u001b[0;32mNone\u001b[0m \u001b[0;32mand\u001b[0m \u001b[0;32mnot\u001b[0m \u001b[0mself\u001b[0m\u001b[0;34m.\u001b[0m\u001b[0mhigh_variance_confounds\u001b[0m\u001b[0;34m:\u001b[0m\u001b[0;34m\u001b[0m\u001b[0;34m\u001b[0m\u001b[0m\n\u001b[0;32m--> 200\u001b[0;31m             return self.transform_single_imgs(imgs,\n\u001b[0m\u001b[1;32m    201\u001b[0m                                               \u001b[0mconfounds\u001b[0m\u001b[0;34m=\u001b[0m\u001b[0mconfounds\u001b[0m\u001b[0;34m,\u001b[0m\u001b[0;34m\u001b[0m\u001b[0;34m\u001b[0m\u001b[0m\n\u001b[1;32m    202\u001b[0m                                               sample_mask=sample_mask)\n",
      "\u001b[0;32m~/.local/lib/python3.9/site-packages/nilearn/input_data/nifti_labels_masker.py\u001b[0m in \u001b[0;36mtransform_single_imgs\u001b[0;34m(self, imgs, confounds, sample_mask)\u001b[0m\n\u001b[1;32m    436\u001b[0m             \u001b[0mself\u001b[0m\u001b[0;34m.\u001b[0m\u001b[0m_resampled_mask_img\u001b[0m \u001b[0;34m=\u001b[0m \u001b[0mself\u001b[0m\u001b[0;34m.\u001b[0m\u001b[0mmask_img_\u001b[0m\u001b[0;34m\u001b[0m\u001b[0;34m\u001b[0m\u001b[0m\n\u001b[1;32m    437\u001b[0m         \u001b[0;32mif\u001b[0m \u001b[0mself\u001b[0m\u001b[0;34m.\u001b[0m\u001b[0mresampling_target\u001b[0m \u001b[0;34m==\u001b[0m \u001b[0;34m\"data\"\u001b[0m\u001b[0;34m:\u001b[0m\u001b[0;34m\u001b[0m\u001b[0;34m\u001b[0m\u001b[0m\n\u001b[0;32m--> 438\u001b[0;31m             \u001b[0mimgs_\u001b[0m \u001b[0;34m=\u001b[0m \u001b[0m_utils\u001b[0m\u001b[0;34m.\u001b[0m\u001b[0mcheck_niimg\u001b[0m\u001b[0;34m(\u001b[0m\u001b[0mimgs\u001b[0m\u001b[0;34m,\u001b[0m \u001b[0matleast_4d\u001b[0m\u001b[0;34m=\u001b[0m\u001b[0;32mTrue\u001b[0m\u001b[0;34m)\u001b[0m\u001b[0;34m\u001b[0m\u001b[0;34m\u001b[0m\u001b[0m\n\u001b[0m\u001b[1;32m    439\u001b[0m             \u001b[0;32mif\u001b[0m \u001b[0;32mnot\u001b[0m \u001b[0m_check_same_fov\u001b[0m\u001b[0;34m(\u001b[0m\u001b[0mimgs_\u001b[0m\u001b[0;34m,\u001b[0m \u001b[0mself\u001b[0m\u001b[0;34m.\u001b[0m\u001b[0m_resampled_labels_img_\u001b[0m\u001b[0;34m)\u001b[0m\u001b[0;34m:\u001b[0m\u001b[0;34m\u001b[0m\u001b[0;34m\u001b[0m\u001b[0m\n\u001b[1;32m    440\u001b[0m                 \u001b[0;32mif\u001b[0m \u001b[0mself\u001b[0m\u001b[0;34m.\u001b[0m\u001b[0mverbose\u001b[0m \u001b[0;34m>\u001b[0m \u001b[0;36m0\u001b[0m\u001b[0;34m:\u001b[0m\u001b[0;34m\u001b[0m\u001b[0;34m\u001b[0m\u001b[0m\n",
      "\u001b[0;32m~/.local/lib/python3.9/site-packages/nilearn/_utils/niimg_conversions.py\u001b[0m in \u001b[0;36mcheck_niimg\u001b[0;34m(niimg, ensure_ndim, atleast_4d, dtype, return_iterator, wildcards)\u001b[0m\n\u001b[1;32m    269\u001b[0m                 \u001b[0;32mraise\u001b[0m \u001b[0mValueError\u001b[0m\u001b[0;34m(\u001b[0m\u001b[0mmessage\u001b[0m\u001b[0;34m)\u001b[0m\u001b[0;34m\u001b[0m\u001b[0;34m\u001b[0m\u001b[0m\n\u001b[1;32m    270\u001b[0m             \u001b[0;32melse\u001b[0m\u001b[0;34m:\u001b[0m\u001b[0;34m\u001b[0m\u001b[0;34m\u001b[0m\u001b[0m\n\u001b[0;32m--> 271\u001b[0;31m                 \u001b[0;32mraise\u001b[0m \u001b[0mValueError\u001b[0m\u001b[0;34m(\u001b[0m\u001b[0;34m\"File not found: '%s'\"\u001b[0m \u001b[0;34m%\u001b[0m \u001b[0mniimg\u001b[0m\u001b[0;34m)\u001b[0m\u001b[0;34m\u001b[0m\u001b[0;34m\u001b[0m\u001b[0m\n\u001b[0m\u001b[1;32m    272\u001b[0m         \u001b[0;32melif\u001b[0m \u001b[0;32mnot\u001b[0m \u001b[0mos\u001b[0m\u001b[0;34m.\u001b[0m\u001b[0mpath\u001b[0m\u001b[0;34m.\u001b[0m\u001b[0mexists\u001b[0m\u001b[0;34m(\u001b[0m\u001b[0mniimg\u001b[0m\u001b[0;34m)\u001b[0m\u001b[0;34m:\u001b[0m\u001b[0;34m\u001b[0m\u001b[0;34m\u001b[0m\u001b[0m\n\u001b[1;32m    273\u001b[0m             \u001b[0;32mraise\u001b[0m \u001b[0mValueError\u001b[0m\u001b[0;34m(\u001b[0m\u001b[0;34m\"File not found: '%s'\"\u001b[0m \u001b[0;34m%\u001b[0m \u001b[0mniimg\u001b[0m\u001b[0;34m)\u001b[0m\u001b[0;34m\u001b[0m\u001b[0;34m\u001b[0m\u001b[0m\n",
      "\u001b[0;31mValueError\u001b[0m: File not found: 'DATA/50054/MP-RAGE/2000-01-01_00_00_00.0/I328862/ABIDE_50054_MRI_MP-RAGE_br_raw_20120830185721042_S164852_I328862.nii'"
     ]
    }
   ],
   "source": [
    "autistic = masker.fit_transform(\"DATA/50054/MP-RAGE/2000-01-01_00_00_00.0/I328862/ABIDE_50054_MRI_MP-RAGE_br_raw_20120830185721042_S164852_I328862.nii\")"
   ]
  },
  {
   "cell_type": "code",
   "execution_count": 9,
   "metadata": {},
   "outputs": [
    {
     "data": {
      "text/plain": [
       "array([[ 56.10748443,  49.38183218,  81.4388755 ,  74.97267819,\n",
       "        257.51035834, 236.33511252,  77.57805856,  73.72418783,\n",
       "        200.53406408, 182.26770518, 124.10330169, 125.55508158,\n",
       "        122.75723869, 106.02766637, 235.77055449, 203.8337891 ,\n",
       "        191.62984945, 181.29830694,  66.9501358 ,  67.27299739,\n",
       "        300.81677704, 295.54757282, 128.65820022, 124.99881657,\n",
       "        204.96510125, 235.44271546, 249.72555889, 274.07741477,\n",
       "        261.76199305, 259.0826156 , 208.61549546, 248.85269512,\n",
       "        172.81966251, 195.29496495, 225.18033898, 253.89464741,\n",
       "        309.30084086, 324.35674069, 320.77491866, 312.84657948,\n",
       "        309.14074074, 303.515625  , 215.07491208, 237.28878072,\n",
       "        134.07920698, 141.26897959, 292.29331877, 284.96248251,\n",
       "         92.23140156, 102.12307844, 126.79431431, 129.71554252,\n",
       "        177.37827654, 174.7387483 , 283.15518312, 291.23660765,\n",
       "         48.62393641,  48.46334144,  32.2403954 ,  23.50918618,\n",
       "         53.3926557 ,  50.67606587,  72.80009035,  79.82990478,\n",
       "         66.16333333,  82.22979714, 108.58969864, 139.75931232,\n",
       "         36.41368881,  44.29256393, 299.85168934, 319.72935235,\n",
       "        318.04953186, 307.96772494, 341.57771788, 347.14327485,\n",
       "        314.11236102, 307.90805397, 250.31916376, 258.03697183,\n",
       "        174.60278988, 172.74106205, 204.33937378, 183.99515898,\n",
       "        161.16304125, 170.64945222, 201.65434488, 186.32256885,\n",
       "        199.24581655, 207.08843537, 232.43013187, 237.87145884,\n",
       "        206.75134236, 199.87192183, 300.8919214 , 285.55414909,\n",
       "        303.84219577, 300.11064473, 298.59481525, 297.48560491,\n",
       "        178.33130699, 168.48549884, 186.81885341, 198.73080789,\n",
       "        235.64416339, 241.23720846, 222.64760915, 223.33975482,\n",
       "        172.20673077, 323.26748252, 250.55176768, 256.21507353,\n",
       "        253.51272455, 207.22216157, 231.61859253, 244.53359173]])"
      ]
     },
     "execution_count": 9,
     "metadata": {},
     "output_type": "execute_result"
    }
   ],
   "source": [
    "autistic"
   ]
  },
  {
   "cell_type": "code",
   "execution_count": 11,
   "metadata": {},
   "outputs": [
    {
     "data": {
      "text/plain": [
       "array([[ 875.89974044,  977.3484766 ,  906.97026593,  954.89111233,\n",
       "         545.58555516,  549.27256835,  900.16340242,  915.38168852,\n",
       "         560.76889065,  742.2958415 ,  835.77601507,  907.66706152,\n",
       "         835.45988287,  821.67052483,  949.76721507,  939.41829937,\n",
       "         953.24195557, 1043.84242641,  747.23405044,  772.56274331,\n",
       "         858.56112979,  978.00395807,  667.38362956,  735.58883717,\n",
       "         474.43330301,  425.06524415,  483.94475754,  522.27315437,\n",
       "         779.64135265,  785.43383495,  408.61084163,  394.62245124,\n",
       "         855.75541427,  791.92352384,  929.06560991,  757.76026513,\n",
       "         744.75834478,  901.59874725,  936.14479446,  937.37725963,\n",
       "         796.56210946,  713.88301405,  747.6650716 ,  768.75850657,\n",
       "         738.83575132,  697.52368078,  722.94169102,  687.54373456,\n",
       "         660.15332634,  726.9591271 ,  599.17125869,  703.05930754,\n",
       "         552.60483883,  679.60425996,  786.47512674,  866.60025387,\n",
       "         843.97486547, 1022.8616369 ,  801.42171158,  861.55825331,\n",
       "         810.06855227, 1052.76169096,  716.71271685, 1023.56920931,\n",
       "         709.68981126,  871.64069352,  941.90348674,  821.74372285,\n",
       "        1000.81348983,  890.69473929,  814.2992655 ,  826.62091834,\n",
       "         666.41049948,  807.31796522,  782.56355832,  679.32324003,\n",
       "         905.52569213,  981.72284325,  853.47016919, 1082.09575143,\n",
       "         622.74020853,  784.39951457,  940.3944186 ,  771.69382701,\n",
       "         605.90639438,  706.29509043,  957.02856926,  949.84949797,\n",
       "         607.52192178,  769.24241083,  735.22064266,  980.54389923,\n",
       "         517.66355891,  766.11385279,  993.14565358,  933.59549224,\n",
       "         904.53688642,  808.95698476,  611.05467907,  667.26131319,\n",
       "         780.09788071,  707.2224819 ,  979.40917344, 1026.28866371,\n",
       "         776.83875278, 1001.23242647, 1073.96592209,  882.9246937 ,\n",
       "         734.46299755,  946.727046  ,  689.70602592,  494.17934259,\n",
       "         682.58243604,  816.45923467,  687.55717946,  484.21435541]])"
      ]
     },
     "execution_count": 11,
     "metadata": {},
     "output_type": "execute_result"
    }
   ],
   "source": [
    "normal2 = masker.fit_transform(\"normal_data/IXI016-Guys-0697-T1.nii.gz\")\n",
    "normal2"
   ]
  },
  {
   "cell_type": "code",
   "execution_count": 16,
   "metadata": {},
   "outputs": [],
   "source": [
    "import numpy as np"
   ]
  },
  {
   "cell_type": "code",
   "execution_count": 14,
   "metadata": {},
   "outputs": [
    {
     "data": {
      "text/plain": [
       "array([[1.        , 0.63116625],\n",
       "       [0.63116625, 1.        ]])"
      ]
     },
     "execution_count": 14,
     "metadata": {},
     "output_type": "execute_result"
    }
   ],
   "source": [
    "# normal brains positive corr.\n",
    "np.corrcoef(normal, normal2)"
   ]
  },
  {
   "cell_type": "code",
   "execution_count": 15,
   "metadata": {},
   "outputs": [
    {
     "data": {
      "text/plain": [
       "array([[ 1.        , -0.25327699],\n",
       "       [-0.25327699,  1.        ]])"
      ]
     },
     "execution_count": 15,
     "metadata": {},
     "output_type": "execute_result"
    }
   ],
   "source": [
    "np.corrcoef(normal, autistic)"
   ]
  },
  {
   "cell_type": "code",
   "execution_count": 18,
   "metadata": {},
   "outputs": [
    {
     "data": {
      "text/plain": [
       "array([[ 1.        , -0.13740058],\n",
       "       [-0.13740058,  1.        ]])"
      ]
     },
     "execution_count": 18,
     "metadata": {},
     "output_type": "execute_result"
    }
   ],
   "source": [
    "# neg. corr between normal and autsitc brains\n",
    "np.corrcoef(normal2, autistic)"
   ]
  },
  {
   "cell_type": "code",
   "execution_count": 19,
   "metadata": {},
   "outputs": [
    {
     "data": {
      "text/plain": [
       "array([[159.83182647,  81.22625473, 188.82879108, 150.44824947,\n",
       "        325.16429127, 274.80633007, 197.54890969, 153.74510188,\n",
       "        318.74894098, 207.57721675, 224.41088632, 165.94296442,\n",
       "        249.01858442, 175.5274291 , 273.03961567, 215.93144156,\n",
       "        284.91414141, 190.42158152, 148.85595424, 142.94324136,\n",
       "        317.33214286, 339.06574394, 168.23383189, 208.14597001,\n",
       "        235.52729485, 305.96827485, 281.37470657, 314.71208054,\n",
       "        340.55447078, 252.89915254, 247.16223214, 293.25380807,\n",
       "        170.05744462, 215.17894079, 234.01592873, 262.0108209 ,\n",
       "        359.49959775, 298.85963521, 351.77276205, 339.58618785,\n",
       "        381.68197279, 299.29133065, 213.07650576, 229.17376411,\n",
       "        159.53722186, 171.62471416, 241.65189949, 273.60517129,\n",
       "        116.38906164, 134.12690265, 203.08600628, 152.30618446,\n",
       "        244.11975013, 195.73887765, 314.24859216, 270.11313542,\n",
       "        157.76106913,  77.56287957,  68.0783046 ,  22.50873094,\n",
       "        171.16234164,  71.54042   , 210.33976911, 120.30510838,\n",
       "        206.35306035, 108.1310832 , 137.85227961, 164.96888607,\n",
       "        100.36713933, 104.7417263 , 307.84615385, 348.54482498,\n",
       "        371.67377293, 303.0483302 , 325.78327645, 340.96785714,\n",
       "        317.80113636, 356.28796121, 344.31611111, 225.05722892,\n",
       "        266.25631533, 190.85004776, 280.80443235, 219.66729007,\n",
       "        257.86710846, 193.66676115, 278.5647351 , 228.73989048,\n",
       "        288.13351562, 204.06456942, 256.02230858, 201.57027715,\n",
       "        221.36694826, 195.08403163, 243.76286765, 327.01570048,\n",
       "        271.78779134, 317.09973868, 284.85343939, 274.09268802,\n",
       "        210.21645299, 179.00257732, 200.73290938, 171.10648449,\n",
       "        202.68181818, 202.67524016, 249.48350694, 217.29716981,\n",
       "        295.7759434 , 357.74725877, 282.86804511, 278.74831536,\n",
       "        261.75515464, 258.54012346, 262.49784483, 252.7265625 ]])"
      ]
     },
     "execution_count": 19,
     "metadata": {},
     "output_type": "execute_result"
    }
   ],
   "source": [
    "autistic2 = masker.fit_transform(\"DATA/50110/MP-RAGE/2000-01-01_00_00_00.0/I329408/ABIDE_50110_MRI_MP-RAGE_br_raw_20120830233415615_S165398_I329408.nii\")\n",
    "autistic2"
   ]
  },
  {
   "cell_type": "code",
   "execution_count": 20,
   "metadata": {},
   "outputs": [
    {
     "data": {
      "text/plain": [
       "array([[1.        , 0.87109042],\n",
       "       [0.87109042, 1.        ]])"
      ]
     },
     "execution_count": 20,
     "metadata": {},
     "output_type": "execute_result"
    }
   ],
   "source": [
    "# seems brains of the same type have positive corr.\n",
    "np.corrcoef(autistic, autistic2)"
   ]
  },
  {
   "cell_type": "code",
   "execution_count": 21,
   "metadata": {},
   "outputs": [],
   "source": [
    "from sklearn.svm import SVC\n",
    "\n",
    "clf = SVC(gamma=\"auto\")"
   ]
  },
  {
   "cell_type": "code",
   "execution_count": 22,
   "metadata": {},
   "outputs": [],
   "source": [
    "import os\n",
    "\n",
    "normal_paths = [\"normal_data/\" + x for x in os.listdir(\"normal_data/\")]"
   ]
  },
  {
   "cell_type": "code",
   "execution_count": 59,
   "metadata": {},
   "outputs": [],
   "source": [
    "normal_brains = [masker.fit_transform(x)[0] for x in normal_paths]"
   ]
  },
  {
   "cell_type": "code",
   "execution_count": 26,
   "metadata": {},
   "outputs": [
    {
     "data": {
      "text/plain": [
       "18"
      ]
     },
     "execution_count": 26,
     "metadata": {},
     "output_type": "execute_result"
    }
   ],
   "source": [
    "len(normal_brains)"
   ]
  },
  {
   "cell_type": "code",
   "execution_count": 27,
   "metadata": {},
   "outputs": [],
   "source": [
    "autistic_paths = [\"autistic_data/\" + x for x in os.listdir(\"autistic_data/\")]"
   ]
  },
  {
   "cell_type": "code",
   "execution_count": 29,
   "metadata": {},
   "outputs": [
    {
     "data": {
      "text/plain": [
       "['autistic_data/ABIDE_50646_MRI_MP-RAGE_br_raw_20120830182459544_S164765_I328775.nii',\n",
       " 'autistic_data/ABIDE_50167_MRI_MP-RAGE_br_raw_20120831140522566_S165708_I329754.nii',\n",
       " 'autistic_data/ABIDE_50125_MRI_MP-RAGE_br_raw_20120830174129152_S164649_I328659.nii',\n",
       " 'autistic_data/ABIDE_50122_MRI_MP-RAGE_br_raw_20120830213955992_S165183_I329193.nii',\n",
       " 'autistic_data/ABIDE_50405_MRI_MP-RAGE_br_raw_20120830183350015_S164788_I328798.nii',\n",
       " 'autistic_data/ABIDE_50136_MRI_MP-RAGE_br_raw_20120830202014457_S165053_I329063.nii',\n",
       " 'autistic_data/ABIDE_50246_MRI_MP-RAGE_br_raw_20120905094204756_S166107_I330286.nii',\n",
       " 'autistic_data/ABIDE_50355_MRI_MP-RAGE_br_raw_20120830192044297_S164918_I328928.nii',\n",
       " 'autistic_data/ABIDE_50602_MRI_MP-RAGE_br_raw_20120830190108410_S164863_I328873.nii',\n",
       " 'autistic_data/ABIDE_50106_MRI_MP-RAGE_br_raw_20120830215147324_S165204_I329214.nii',\n",
       " 'autistic_data/ABIDE_50124_MRI_MP-RAGE_br_raw_20120830220922858_S165240_I329250.nii',\n",
       " 'autistic_data/ABIDE_50166_MRI_MP-RAGE_br_raw_20120831131309137_S165667_I329713.nii',\n",
       " 'autistic_data/ABIDE_50184_MRI_MP-RAGE_br_raw_20120830202608233_S165064_I329074.nii',\n",
       " 'autistic_data/ABIDE_50187_MRI_MP-RAGE_br_raw_20120830221631775_S165254_I329264.nii',\n",
       " 'autistic_data/ABIDE_50242_MRI_MP-RAGE_br_raw_20120905093536169_S166097_I330276.nii',\n",
       " 'autistic_data/ABIDE_50326_MRI_MP-RAGE_br_raw_20120830193632347_S164958_I328968.nii',\n",
       " 'autistic_data/ABIDE_50266_MRI_MP-RAGE_br_raw_20120905100113104_S166137_I330316.nii',\n",
       " 'autistic_data/ABIDE_50054_MRI_MP-RAGE_br_raw_20120830185721042_S164852_I328862.nii',\n",
       " 'autistic_data/ABIDE_50307_MRI_MP-RAGE_br_raw_20120830210457022_S165136_I329146.nii',\n",
       " 'autistic_data/ABIDE_50197_MRI_MP-RAGE_br_raw_20120830225131603_S165318_I329328.nii',\n",
       " 'autistic_data/ABIDE_50270_MRI_MP-RAGE_br_raw_20120905095459271_S166127_I330306.nii',\n",
       " 'autistic_data/ABIDE_50294_MRI_MP-RAGE_br_raw_20120831001213062_S165463_I329473.nii',\n",
       " 'autistic_data/ABIDE_50369_MRI_MP-RAGE_br_raw_20120830172201195_S164604_I328611.nii',\n",
       " 'autistic_data/ABIDE_50055_MRI_MP-RAGE_br_raw_20120830220404875_S165229_I329239.nii',\n",
       " 'autistic_data/ABIDE_50610_MRI_MP-RAGE_br_raw_20120830182850942_S164775_I328785.nii',\n",
       " 'autistic_data/ABIDE_50264_MRI_MP-RAGE_br_raw_20120905094838481_S166117_I330296.nii',\n",
       " 'autistic_data/ABIDE_50378_MRI_MP-RAGE_br_raw_20120830200332253_S165021_I329031.nii',\n",
       " 'autistic_data/ABIDE_50279_MRI_MP-RAGE_br_raw_20120831000637071_S165453_I329463.nii',\n",
       " 'autistic_data/ABIDE_50605_MRI_MP-RAGE_br_raw_20120830180247813_S164702_I328712.nii',\n",
       " 'autistic_data/ABIDE_50110_MRI_MP-RAGE_br_raw_20120830233415615_S165398_I329408.nii',\n",
       " 'autistic_data/ABIDE_50317_MRI_MP-RAGE_br_raw_20120830204520973_S165101_I329111.nii',\n",
       " 'autistic_data/ABIDE_50359_MRI_MP-RAGE_br_raw_20120831000038502_S165442_I329452.nii',\n",
       " 'autistic_data/ABIDE_50190_MRI_MP-RAGE_br_raw_20120830213356334_S165172_I329182.nii',\n",
       " 'autistic_data/ABIDE_50314_MRI_MP-RAGE_br_raw_20120830191705968_S164907_I328917.nii',\n",
       " 'autistic_data/ABIDE_50255_MRI_MP-RAGE_br_raw_20120905100907145_S166147_I330326.nii',\n",
       " 'autistic_data/ABIDE_50313_MRI_MP-RAGE_br_raw_20120830232658589_S165386_I329396.nii',\n",
       " 'autistic_data/ABIDE_50119_MRI_MP-RAGE_br_raw_20120830224047369_S165298_I329308.nii',\n",
       " 'autistic_data/ABIDE_50268_MRI_MP-RAGE_br_raw_20120905101546593_S166157_I330336.nii',\n",
       " 'autistic_data/ABIDE_50575_MRI_MP-RAGE_br_raw_20120830194812886_S164989_I328999.nii',\n",
       " 'autistic_data/ABIDE_50564_MRI_MP-RAGE_br_raw_20120830182109486_S164754_I328764.nii',\n",
       " 'autistic_data/ABIDE_50102_MRI_MP-RAGE_br_raw_20120830181319367_S164732_I328742.nii']"
      ]
     },
     "execution_count": 29,
     "metadata": {},
     "output_type": "execute_result"
    }
   ],
   "source": [
    "autistic_paths"
   ]
  },
  {
   "cell_type": "code",
   "execution_count": 57,
   "metadata": {},
   "outputs": [],
   "source": [
    "autistic_brains = [masker.fit_transform(x)[0] for x in autistic_paths]"
   ]
  },
  {
   "cell_type": "code",
   "execution_count": 58,
   "metadata": {},
   "outputs": [
    {
     "data": {
      "text/plain": [
       "[(116,),\n",
       " (116,),\n",
       " (116,),\n",
       " (116,),\n",
       " (116,),\n",
       " (116,),\n",
       " (116,),\n",
       " (22,),\n",
       " (116,),\n",
       " (116,),\n",
       " (116,),\n",
       " (116,),\n",
       " (116,),\n",
       " (116,),\n",
       " (116,),\n",
       " (22,),\n",
       " (116,),\n",
       " (116,),\n",
       " (22,),\n",
       " (116,),\n",
       " (116,),\n",
       " (22,),\n",
       " (22,),\n",
       " (116,),\n",
       " (116,),\n",
       " (116,),\n",
       " (22,),\n",
       " (22,),\n",
       " (115,),\n",
       " (116,),\n",
       " (22,),\n",
       " (22,),\n",
       " (116,),\n",
       " (22,),\n",
       " (116,),\n",
       " (22,),\n",
       " (116,),\n",
       " (116,),\n",
       " (116,),\n",
       " (116,),\n",
       " (116,)]"
      ]
     },
     "execution_count": 58,
     "metadata": {},
     "output_type": "execute_result"
    }
   ],
   "source": [
    "[x.shape for x in autistic_brains]"
   ]
  },
  {
   "cell_type": "code",
   "execution_count": 62,
   "metadata": {},
   "outputs": [],
   "source": [
    "# only volume data\n",
    "autistic_brains = [x for x in filter(lambda x: x.shape != (1, 22), autistic_brains)]"
   ]
  },
  {
   "cell_type": "code",
   "execution_count": 41,
   "metadata": {},
   "outputs": [
    {
     "data": {
      "text/plain": [
       "30"
      ]
     },
     "execution_count": 41,
     "metadata": {},
     "output_type": "execute_result"
    }
   ],
   "source": [
    "len(autistic_brains)"
   ]
  },
  {
   "cell_type": "code",
   "execution_count": 64,
   "metadata": {},
   "outputs": [
    {
     "data": {
      "text/plain": [
       "29"
      ]
     },
     "execution_count": 64,
     "metadata": {},
     "output_type": "execute_result"
    }
   ],
   "source": [
    "len(autistic_brains[12:])"
   ]
  },
  {
   "cell_type": "code",
   "execution_count": 67,
   "metadata": {},
   "outputs": [],
   "source": [
    "from sklearn.model_selection import train_test_split\n",
    "import pandas as pd\n",
    "\n",
    "X_train, X_test, y_train, y_test = train_test_split(pd.Series(autistic_brains[23:]), pd.Series(normal_brains), test_size=0.1)"
   ]
  },
  {
   "cell_type": "code",
   "execution_count": 68,
   "metadata": {},
   "outputs": [
    {
     "data": {
      "text/plain": [
       "7     [0.0, 0.0, 0.0, 0.0, 0.0, 0.0, 0.0, 0.0, 0.0, ...\n",
       "0     [84.09837707038258, 74.75113237099437, 137.270...\n",
       "10    [0.0, 0.0, 0.0, 0.0, 0.0, 0.0, 0.0, 0.0, 0.0, ...\n",
       "11    [169.75044323097651, 193.31576418406948, 184.6...\n",
       "3     [0.0, 0.0, 0.0, 0.0, 0.016519488428745434, 0.0...\n",
       "8     [0.0, 0.0, 0.0, 0.0, 0.0, 0.0, 0.0, 0.0, 0.0, ...\n",
       "6     [159.83182647014132, 81.22625473294127, 188.82...\n",
       "5     [18.862421929215824, 222.40372670807454, 5.413...\n",
       "9     [1147.9740853658536, 1676.5977151730258, 1451....\n",
       "12    [0.0, 0.0, 0.6628980299838929, 0.0, 0.06836175...\n",
       "14    [130.37561598184848, 107.0575409290809, 151.73...\n",
       "1     [268.89421440726034, 300.98365868086364, 179.1...\n",
       "15    [27.143901453957998, 229.31876663708962, 19.52...\n",
       "2     [148.9786562666194, 134.96969136943264, 198.48...\n",
       "16    [0.30408542246982356, 144.45149364093464, 0.17...\n",
       "4     [0.0, 0.0, 0.0, 0.0, 0.0, 0.0, 0.0, 0.0, 0.0, ...\n",
       "dtype: object"
      ]
     },
     "execution_count": 68,
     "metadata": {},
     "output_type": "execute_result"
    }
   ],
   "source": [
    "X_train"
   ]
  },
  {
   "cell_type": "code",
   "execution_count": 69,
   "metadata": {},
   "outputs": [
    {
     "ename": "ValueError",
     "evalue": "setting an array element with a sequence.",
     "output_type": "error",
     "traceback": [
      "\u001b[0;31m---------------------------------------------------------------------------\u001b[0m",
      "\u001b[0;31mTypeError\u001b[0m                                 Traceback (most recent call last)",
      "\u001b[0;31mTypeError\u001b[0m: only size-1 arrays can be converted to Python scalars",
      "\nThe above exception was the direct cause of the following exception:\n",
      "\u001b[0;31mValueError\u001b[0m                                Traceback (most recent call last)",
      "\u001b[0;32m<ipython-input-69-4f66baab8f93>\u001b[0m in \u001b[0;36m<module>\u001b[0;34m\u001b[0m\n\u001b[0;32m----> 1\u001b[0;31m \u001b[0mclf\u001b[0m\u001b[0;34m.\u001b[0m\u001b[0mfit\u001b[0m\u001b[0;34m(\u001b[0m\u001b[0mX_train\u001b[0m\u001b[0;34m,\u001b[0m \u001b[0my_train\u001b[0m\u001b[0;34m)\u001b[0m\u001b[0;34m\u001b[0m\u001b[0;34m\u001b[0m\u001b[0m\n\u001b[0m",
      "\u001b[0;32m~/.local/lib/python3.9/site-packages/sklearn/svm/_base.py\u001b[0m in \u001b[0;36mfit\u001b[0;34m(self, X, y, sample_weight)\u001b[0m\n\u001b[1;32m    167\u001b[0m             \u001b[0mcheck_consistent_length\u001b[0m\u001b[0;34m(\u001b[0m\u001b[0mX\u001b[0m\u001b[0;34m,\u001b[0m \u001b[0my\u001b[0m\u001b[0;34m)\u001b[0m\u001b[0;34m\u001b[0m\u001b[0;34m\u001b[0m\u001b[0m\n\u001b[1;32m    168\u001b[0m         \u001b[0;32melse\u001b[0m\u001b[0;34m:\u001b[0m\u001b[0;34m\u001b[0m\u001b[0;34m\u001b[0m\u001b[0m\n\u001b[0;32m--> 169\u001b[0;31m             X, y = self._validate_data(X, y, dtype=np.float64,\n\u001b[0m\u001b[1;32m    170\u001b[0m                                        \u001b[0morder\u001b[0m\u001b[0;34m=\u001b[0m\u001b[0;34m'C'\u001b[0m\u001b[0;34m,\u001b[0m \u001b[0maccept_sparse\u001b[0m\u001b[0;34m=\u001b[0m\u001b[0;34m'csr'\u001b[0m\u001b[0;34m,\u001b[0m\u001b[0;34m\u001b[0m\u001b[0;34m\u001b[0m\u001b[0m\n\u001b[1;32m    171\u001b[0m                                        accept_large_sparse=False)\n",
      "\u001b[0;32m~/.local/lib/python3.9/site-packages/sklearn/base.py\u001b[0m in \u001b[0;36m_validate_data\u001b[0;34m(self, X, y, reset, validate_separately, **check_params)\u001b[0m\n\u001b[1;32m    431\u001b[0m                 \u001b[0my\u001b[0m \u001b[0;34m=\u001b[0m \u001b[0mcheck_array\u001b[0m\u001b[0;34m(\u001b[0m\u001b[0my\u001b[0m\u001b[0;34m,\u001b[0m \u001b[0;34m**\u001b[0m\u001b[0mcheck_y_params\u001b[0m\u001b[0;34m)\u001b[0m\u001b[0;34m\u001b[0m\u001b[0;34m\u001b[0m\u001b[0m\n\u001b[1;32m    432\u001b[0m             \u001b[0;32melse\u001b[0m\u001b[0;34m:\u001b[0m\u001b[0;34m\u001b[0m\u001b[0;34m\u001b[0m\u001b[0m\n\u001b[0;32m--> 433\u001b[0;31m                 \u001b[0mX\u001b[0m\u001b[0;34m,\u001b[0m \u001b[0my\u001b[0m \u001b[0;34m=\u001b[0m \u001b[0mcheck_X_y\u001b[0m\u001b[0;34m(\u001b[0m\u001b[0mX\u001b[0m\u001b[0;34m,\u001b[0m \u001b[0my\u001b[0m\u001b[0;34m,\u001b[0m \u001b[0;34m**\u001b[0m\u001b[0mcheck_params\u001b[0m\u001b[0;34m)\u001b[0m\u001b[0;34m\u001b[0m\u001b[0;34m\u001b[0m\u001b[0m\n\u001b[0m\u001b[1;32m    434\u001b[0m             \u001b[0mout\u001b[0m \u001b[0;34m=\u001b[0m \u001b[0mX\u001b[0m\u001b[0;34m,\u001b[0m \u001b[0my\u001b[0m\u001b[0;34m\u001b[0m\u001b[0;34m\u001b[0m\u001b[0m\n\u001b[1;32m    435\u001b[0m \u001b[0;34m\u001b[0m\u001b[0m\n",
      "\u001b[0;32m~/.local/lib/python3.9/site-packages/sklearn/utils/validation.py\u001b[0m in \u001b[0;36minner_f\u001b[0;34m(*args, **kwargs)\u001b[0m\n\u001b[1;32m     61\u001b[0m             \u001b[0mextra_args\u001b[0m \u001b[0;34m=\u001b[0m \u001b[0mlen\u001b[0m\u001b[0;34m(\u001b[0m\u001b[0margs\u001b[0m\u001b[0;34m)\u001b[0m \u001b[0;34m-\u001b[0m \u001b[0mlen\u001b[0m\u001b[0;34m(\u001b[0m\u001b[0mall_args\u001b[0m\u001b[0;34m)\u001b[0m\u001b[0;34m\u001b[0m\u001b[0;34m\u001b[0m\u001b[0m\n\u001b[1;32m     62\u001b[0m             \u001b[0;32mif\u001b[0m \u001b[0mextra_args\u001b[0m \u001b[0;34m<=\u001b[0m \u001b[0;36m0\u001b[0m\u001b[0;34m:\u001b[0m\u001b[0;34m\u001b[0m\u001b[0;34m\u001b[0m\u001b[0m\n\u001b[0;32m---> 63\u001b[0;31m                 \u001b[0;32mreturn\u001b[0m \u001b[0mf\u001b[0m\u001b[0;34m(\u001b[0m\u001b[0;34m*\u001b[0m\u001b[0margs\u001b[0m\u001b[0;34m,\u001b[0m \u001b[0;34m**\u001b[0m\u001b[0mkwargs\u001b[0m\u001b[0;34m)\u001b[0m\u001b[0;34m\u001b[0m\u001b[0;34m\u001b[0m\u001b[0m\n\u001b[0m\u001b[1;32m     64\u001b[0m \u001b[0;34m\u001b[0m\u001b[0m\n\u001b[1;32m     65\u001b[0m             \u001b[0;31m# extra_args > 0\u001b[0m\u001b[0;34m\u001b[0m\u001b[0;34m\u001b[0m\u001b[0m\n",
      "\u001b[0;32m~/.local/lib/python3.9/site-packages/sklearn/utils/validation.py\u001b[0m in \u001b[0;36mcheck_X_y\u001b[0;34m(X, y, accept_sparse, accept_large_sparse, dtype, order, copy, force_all_finite, ensure_2d, allow_nd, multi_output, ensure_min_samples, ensure_min_features, y_numeric, estimator)\u001b[0m\n\u001b[1;32m    812\u001b[0m         \u001b[0;32mraise\u001b[0m \u001b[0mValueError\u001b[0m\u001b[0;34m(\u001b[0m\u001b[0;34m\"y cannot be None\"\u001b[0m\u001b[0;34m)\u001b[0m\u001b[0;34m\u001b[0m\u001b[0;34m\u001b[0m\u001b[0m\n\u001b[1;32m    813\u001b[0m \u001b[0;34m\u001b[0m\u001b[0m\n\u001b[0;32m--> 814\u001b[0;31m     X = check_array(X, accept_sparse=accept_sparse,\n\u001b[0m\u001b[1;32m    815\u001b[0m                     \u001b[0maccept_large_sparse\u001b[0m\u001b[0;34m=\u001b[0m\u001b[0maccept_large_sparse\u001b[0m\u001b[0;34m,\u001b[0m\u001b[0;34m\u001b[0m\u001b[0;34m\u001b[0m\u001b[0m\n\u001b[1;32m    816\u001b[0m                     \u001b[0mdtype\u001b[0m\u001b[0;34m=\u001b[0m\u001b[0mdtype\u001b[0m\u001b[0;34m,\u001b[0m \u001b[0morder\u001b[0m\u001b[0;34m=\u001b[0m\u001b[0morder\u001b[0m\u001b[0;34m,\u001b[0m \u001b[0mcopy\u001b[0m\u001b[0;34m=\u001b[0m\u001b[0mcopy\u001b[0m\u001b[0;34m,\u001b[0m\u001b[0;34m\u001b[0m\u001b[0;34m\u001b[0m\u001b[0m\n",
      "\u001b[0;32m~/.local/lib/python3.9/site-packages/sklearn/utils/validation.py\u001b[0m in \u001b[0;36minner_f\u001b[0;34m(*args, **kwargs)\u001b[0m\n\u001b[1;32m     61\u001b[0m             \u001b[0mextra_args\u001b[0m \u001b[0;34m=\u001b[0m \u001b[0mlen\u001b[0m\u001b[0;34m(\u001b[0m\u001b[0margs\u001b[0m\u001b[0;34m)\u001b[0m \u001b[0;34m-\u001b[0m \u001b[0mlen\u001b[0m\u001b[0;34m(\u001b[0m\u001b[0mall_args\u001b[0m\u001b[0;34m)\u001b[0m\u001b[0;34m\u001b[0m\u001b[0;34m\u001b[0m\u001b[0m\n\u001b[1;32m     62\u001b[0m             \u001b[0;32mif\u001b[0m \u001b[0mextra_args\u001b[0m \u001b[0;34m<=\u001b[0m \u001b[0;36m0\u001b[0m\u001b[0;34m:\u001b[0m\u001b[0;34m\u001b[0m\u001b[0;34m\u001b[0m\u001b[0m\n\u001b[0;32m---> 63\u001b[0;31m                 \u001b[0;32mreturn\u001b[0m \u001b[0mf\u001b[0m\u001b[0;34m(\u001b[0m\u001b[0;34m*\u001b[0m\u001b[0margs\u001b[0m\u001b[0;34m,\u001b[0m \u001b[0;34m**\u001b[0m\u001b[0mkwargs\u001b[0m\u001b[0;34m)\u001b[0m\u001b[0;34m\u001b[0m\u001b[0;34m\u001b[0m\u001b[0m\n\u001b[0m\u001b[1;32m     64\u001b[0m \u001b[0;34m\u001b[0m\u001b[0m\n\u001b[1;32m     65\u001b[0m             \u001b[0;31m# extra_args > 0\u001b[0m\u001b[0;34m\u001b[0m\u001b[0;34m\u001b[0m\u001b[0m\n",
      "\u001b[0;32m~/.local/lib/python3.9/site-packages/sklearn/utils/validation.py\u001b[0m in \u001b[0;36mcheck_array\u001b[0;34m(array, accept_sparse, accept_large_sparse, dtype, order, copy, force_all_finite, ensure_2d, allow_nd, ensure_min_samples, ensure_min_features, estimator)\u001b[0m\n\u001b[1;32m    614\u001b[0m                     \u001b[0marray\u001b[0m \u001b[0;34m=\u001b[0m \u001b[0marray\u001b[0m\u001b[0;34m.\u001b[0m\u001b[0mastype\u001b[0m\u001b[0;34m(\u001b[0m\u001b[0mdtype\u001b[0m\u001b[0;34m,\u001b[0m \u001b[0mcasting\u001b[0m\u001b[0;34m=\u001b[0m\u001b[0;34m\"unsafe\"\u001b[0m\u001b[0;34m,\u001b[0m \u001b[0mcopy\u001b[0m\u001b[0;34m=\u001b[0m\u001b[0;32mFalse\u001b[0m\u001b[0;34m)\u001b[0m\u001b[0;34m\u001b[0m\u001b[0;34m\u001b[0m\u001b[0m\n\u001b[1;32m    615\u001b[0m                 \u001b[0;32melse\u001b[0m\u001b[0;34m:\u001b[0m\u001b[0;34m\u001b[0m\u001b[0;34m\u001b[0m\u001b[0m\n\u001b[0;32m--> 616\u001b[0;31m                     \u001b[0marray\u001b[0m \u001b[0;34m=\u001b[0m \u001b[0mnp\u001b[0m\u001b[0;34m.\u001b[0m\u001b[0masarray\u001b[0m\u001b[0;34m(\u001b[0m\u001b[0marray\u001b[0m\u001b[0;34m,\u001b[0m \u001b[0morder\u001b[0m\u001b[0;34m=\u001b[0m\u001b[0morder\u001b[0m\u001b[0;34m,\u001b[0m \u001b[0mdtype\u001b[0m\u001b[0;34m=\u001b[0m\u001b[0mdtype\u001b[0m\u001b[0;34m)\u001b[0m\u001b[0;34m\u001b[0m\u001b[0;34m\u001b[0m\u001b[0m\n\u001b[0m\u001b[1;32m    617\u001b[0m             \u001b[0;32mexcept\u001b[0m \u001b[0mComplexWarning\u001b[0m \u001b[0;32mas\u001b[0m \u001b[0mcomplex_warning\u001b[0m\u001b[0;34m:\u001b[0m\u001b[0;34m\u001b[0m\u001b[0;34m\u001b[0m\u001b[0m\n\u001b[1;32m    618\u001b[0m                 raise ValueError(\"Complex data not supported\\n\"\n",
      "\u001b[0;32m/usr/lib64/python3.9/site-packages/numpy/core/_asarray.py\u001b[0m in \u001b[0;36masarray\u001b[0;34m(a, dtype, order, like)\u001b[0m\n\u001b[1;32m    100\u001b[0m         \u001b[0;32mreturn\u001b[0m \u001b[0m_asarray_with_like\u001b[0m\u001b[0;34m(\u001b[0m\u001b[0ma\u001b[0m\u001b[0;34m,\u001b[0m \u001b[0mdtype\u001b[0m\u001b[0;34m=\u001b[0m\u001b[0mdtype\u001b[0m\u001b[0;34m,\u001b[0m \u001b[0morder\u001b[0m\u001b[0;34m=\u001b[0m\u001b[0morder\u001b[0m\u001b[0;34m,\u001b[0m \u001b[0mlike\u001b[0m\u001b[0;34m=\u001b[0m\u001b[0mlike\u001b[0m\u001b[0;34m)\u001b[0m\u001b[0;34m\u001b[0m\u001b[0;34m\u001b[0m\u001b[0m\n\u001b[1;32m    101\u001b[0m \u001b[0;34m\u001b[0m\u001b[0m\n\u001b[0;32m--> 102\u001b[0;31m     \u001b[0;32mreturn\u001b[0m \u001b[0marray\u001b[0m\u001b[0;34m(\u001b[0m\u001b[0ma\u001b[0m\u001b[0;34m,\u001b[0m \u001b[0mdtype\u001b[0m\u001b[0;34m,\u001b[0m \u001b[0mcopy\u001b[0m\u001b[0;34m=\u001b[0m\u001b[0;32mFalse\u001b[0m\u001b[0;34m,\u001b[0m \u001b[0morder\u001b[0m\u001b[0;34m=\u001b[0m\u001b[0morder\u001b[0m\u001b[0;34m)\u001b[0m\u001b[0;34m\u001b[0m\u001b[0;34m\u001b[0m\u001b[0m\n\u001b[0m\u001b[1;32m    103\u001b[0m \u001b[0;34m\u001b[0m\u001b[0m\n\u001b[1;32m    104\u001b[0m \u001b[0;34m\u001b[0m\u001b[0m\n",
      "\u001b[0;32m/usr/lib64/python3.9/site-packages/pandas/core/series.py\u001b[0m in \u001b[0;36m__array__\u001b[0;34m(self, dtype)\u001b[0m\n\u001b[1;32m    766\u001b[0m               dtype='datetime64[ns]')\n\u001b[1;32m    767\u001b[0m         \"\"\"\n\u001b[0;32m--> 768\u001b[0;31m         \u001b[0;32mreturn\u001b[0m \u001b[0mnp\u001b[0m\u001b[0;34m.\u001b[0m\u001b[0masarray\u001b[0m\u001b[0;34m(\u001b[0m\u001b[0mself\u001b[0m\u001b[0;34m.\u001b[0m\u001b[0marray\u001b[0m\u001b[0;34m,\u001b[0m \u001b[0mdtype\u001b[0m\u001b[0;34m)\u001b[0m\u001b[0;34m\u001b[0m\u001b[0;34m\u001b[0m\u001b[0m\n\u001b[0m\u001b[1;32m    769\u001b[0m \u001b[0;34m\u001b[0m\u001b[0m\n\u001b[1;32m    770\u001b[0m     \u001b[0;31m# ----------------------------------------------------------------------\u001b[0m\u001b[0;34m\u001b[0m\u001b[0;34m\u001b[0m\u001b[0m\n",
      "\u001b[0;32m/usr/lib64/python3.9/site-packages/numpy/core/_asarray.py\u001b[0m in \u001b[0;36masarray\u001b[0;34m(a, dtype, order, like)\u001b[0m\n\u001b[1;32m    100\u001b[0m         \u001b[0;32mreturn\u001b[0m \u001b[0m_asarray_with_like\u001b[0m\u001b[0;34m(\u001b[0m\u001b[0ma\u001b[0m\u001b[0;34m,\u001b[0m \u001b[0mdtype\u001b[0m\u001b[0;34m=\u001b[0m\u001b[0mdtype\u001b[0m\u001b[0;34m,\u001b[0m \u001b[0morder\u001b[0m\u001b[0;34m=\u001b[0m\u001b[0morder\u001b[0m\u001b[0;34m,\u001b[0m \u001b[0mlike\u001b[0m\u001b[0;34m=\u001b[0m\u001b[0mlike\u001b[0m\u001b[0;34m)\u001b[0m\u001b[0;34m\u001b[0m\u001b[0;34m\u001b[0m\u001b[0m\n\u001b[1;32m    101\u001b[0m \u001b[0;34m\u001b[0m\u001b[0m\n\u001b[0;32m--> 102\u001b[0;31m     \u001b[0;32mreturn\u001b[0m \u001b[0marray\u001b[0m\u001b[0;34m(\u001b[0m\u001b[0ma\u001b[0m\u001b[0;34m,\u001b[0m \u001b[0mdtype\u001b[0m\u001b[0;34m,\u001b[0m \u001b[0mcopy\u001b[0m\u001b[0;34m=\u001b[0m\u001b[0;32mFalse\u001b[0m\u001b[0;34m,\u001b[0m \u001b[0morder\u001b[0m\u001b[0;34m=\u001b[0m\u001b[0morder\u001b[0m\u001b[0;34m)\u001b[0m\u001b[0;34m\u001b[0m\u001b[0;34m\u001b[0m\u001b[0m\n\u001b[0m\u001b[1;32m    103\u001b[0m \u001b[0;34m\u001b[0m\u001b[0m\n\u001b[1;32m    104\u001b[0m \u001b[0;34m\u001b[0m\u001b[0m\n",
      "\u001b[0;32m/usr/lib64/python3.9/site-packages/pandas/core/arrays/numpy_.py\u001b[0m in \u001b[0;36m__array__\u001b[0;34m(self, dtype)\u001b[0m\n\u001b[1;32m    201\u001b[0m \u001b[0;34m\u001b[0m\u001b[0m\n\u001b[1;32m    202\u001b[0m     \u001b[0;32mdef\u001b[0m \u001b[0m__array__\u001b[0m\u001b[0;34m(\u001b[0m\u001b[0mself\u001b[0m\u001b[0;34m,\u001b[0m \u001b[0mdtype\u001b[0m\u001b[0;34m=\u001b[0m\u001b[0;32mNone\u001b[0m\u001b[0;34m)\u001b[0m \u001b[0;34m->\u001b[0m \u001b[0mnp\u001b[0m\u001b[0;34m.\u001b[0m\u001b[0mndarray\u001b[0m\u001b[0;34m:\u001b[0m\u001b[0;34m\u001b[0m\u001b[0;34m\u001b[0m\u001b[0m\n\u001b[0;32m--> 203\u001b[0;31m         \u001b[0;32mreturn\u001b[0m \u001b[0mnp\u001b[0m\u001b[0;34m.\u001b[0m\u001b[0masarray\u001b[0m\u001b[0;34m(\u001b[0m\u001b[0mself\u001b[0m\u001b[0;34m.\u001b[0m\u001b[0m_ndarray\u001b[0m\u001b[0;34m,\u001b[0m \u001b[0mdtype\u001b[0m\u001b[0;34m=\u001b[0m\u001b[0mdtype\u001b[0m\u001b[0;34m)\u001b[0m\u001b[0;34m\u001b[0m\u001b[0;34m\u001b[0m\u001b[0m\n\u001b[0m\u001b[1;32m    204\u001b[0m \u001b[0;34m\u001b[0m\u001b[0m\n\u001b[1;32m    205\u001b[0m     \u001b[0m_HANDLED_TYPES\u001b[0m \u001b[0;34m=\u001b[0m \u001b[0;34m(\u001b[0m\u001b[0mnp\u001b[0m\u001b[0;34m.\u001b[0m\u001b[0mndarray\u001b[0m\u001b[0;34m,\u001b[0m \u001b[0mnumbers\u001b[0m\u001b[0;34m.\u001b[0m\u001b[0mNumber\u001b[0m\u001b[0;34m)\u001b[0m\u001b[0;34m\u001b[0m\u001b[0;34m\u001b[0m\u001b[0m\n",
      "\u001b[0;32m/usr/lib64/python3.9/site-packages/numpy/core/_asarray.py\u001b[0m in \u001b[0;36masarray\u001b[0;34m(a, dtype, order, like)\u001b[0m\n\u001b[1;32m    100\u001b[0m         \u001b[0;32mreturn\u001b[0m \u001b[0m_asarray_with_like\u001b[0m\u001b[0;34m(\u001b[0m\u001b[0ma\u001b[0m\u001b[0;34m,\u001b[0m \u001b[0mdtype\u001b[0m\u001b[0;34m=\u001b[0m\u001b[0mdtype\u001b[0m\u001b[0;34m,\u001b[0m \u001b[0morder\u001b[0m\u001b[0;34m=\u001b[0m\u001b[0morder\u001b[0m\u001b[0;34m,\u001b[0m \u001b[0mlike\u001b[0m\u001b[0;34m=\u001b[0m\u001b[0mlike\u001b[0m\u001b[0;34m)\u001b[0m\u001b[0;34m\u001b[0m\u001b[0;34m\u001b[0m\u001b[0m\n\u001b[1;32m    101\u001b[0m \u001b[0;34m\u001b[0m\u001b[0m\n\u001b[0;32m--> 102\u001b[0;31m     \u001b[0;32mreturn\u001b[0m \u001b[0marray\u001b[0m\u001b[0;34m(\u001b[0m\u001b[0ma\u001b[0m\u001b[0;34m,\u001b[0m \u001b[0mdtype\u001b[0m\u001b[0;34m,\u001b[0m \u001b[0mcopy\u001b[0m\u001b[0;34m=\u001b[0m\u001b[0;32mFalse\u001b[0m\u001b[0;34m,\u001b[0m \u001b[0morder\u001b[0m\u001b[0;34m=\u001b[0m\u001b[0morder\u001b[0m\u001b[0;34m)\u001b[0m\u001b[0;34m\u001b[0m\u001b[0;34m\u001b[0m\u001b[0m\n\u001b[0m\u001b[1;32m    103\u001b[0m \u001b[0;34m\u001b[0m\u001b[0m\n\u001b[1;32m    104\u001b[0m \u001b[0;34m\u001b[0m\u001b[0m\n",
      "\u001b[0;31mValueError\u001b[0m: setting an array element with a sequence."
     ]
    }
   ],
   "source": [
    "clf.fit(X_train, y_train)"
   ]
  }
 ],
 "metadata": {
  "kernelspec": {
   "display_name": "Python 3",
   "language": "python",
   "name": "python3"
  },
  "language_info": {
   "codemirror_mode": {
    "name": "ipython",
    "version": 3
   },
   "file_extension": ".py",
   "mimetype": "text/x-python",
   "name": "python",
   "nbconvert_exporter": "python",
   "pygments_lexer": "ipython3",
   "version": "3.9.7"
  }
 },
 "nbformat": 4,
 "nbformat_minor": 4
}
